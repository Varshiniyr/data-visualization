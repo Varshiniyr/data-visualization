{
 "cells": [
  {
   "cell_type": "markdown",
   "id": "1506eb6d-8194-455b-8141-9bc5719c4d9f",
   "metadata": {},
   "source": [
    "## Basic and Advanced Operations using NumPy"
   ]
  },
  {
   "cell_type": "code",
   "execution_count": 1,
   "id": "80a58e6d-552f-401a-b5ef-b346bb73ea3a",
   "metadata": {},
   "outputs": [],
   "source": [
    "import numpy as np"
   ]
  },
  {
   "cell_type": "code",
   "execution_count": 2,
   "id": "415eb864-53e7-4fea-9555-1d0b00549ff2",
   "metadata": {},
   "outputs": [],
   "source": [
    "dataset=np.loadtxt('C:/Users/varshini y r/OneDrive/Desktop/dva1/tiktok_performance.csv',delimiter=',',skiprows=1,dtype='str',encoding=None)"
   ]
  },
  {
   "cell_type": "code",
   "execution_count": 3,
   "id": "21266faa-1096-442c-be5b-3f930634e60b",
   "metadata": {},
   "outputs": [
    {
     "name": "stdout",
     "output_type": "stream",
     "text": [
      "[['101' '1' 'user1' 'Dance Challenge' 'Dance' '1500' '120' '300' '50000'\n",
      "  '2024-08-01' '30' '']\n",
      " ['102' '2' 'user2' 'Funny Skit' 'Comedy' '2300' '200' '400' '70000'\n",
      "  '2024-08-02' '45' '']\n",
      " ['103' '3' 'user3' 'Tutorial' 'Tutorial' '1200' '150' '250' '40000'\n",
      "  '2024-08-03' '60' '']\n",
      " ['104' '4' 'user4' 'Viral Dance' 'Dance' '4500' '500' '600' '90000'\n",
      "  '2024-08-04' '30' '']\n",
      " ['105' '5' 'user5' 'Comedy Sketch' 'Comedy' '1800' '180' '210' '50000'\n",
      "  '2024-08-05' '45' '']]\n"
     ]
    }
   ],
   "source": [
    "print(dataset)"
   ]
  },
  {
   "cell_type": "code",
   "execution_count": 4,
   "id": "127910f6-4add-4b93-bd48-d2218df6cb34",
   "metadata": {},
   "outputs": [
    {
     "data": {
      "text/plain": [
       "(5, 12)"
      ]
     },
     "execution_count": 4,
     "metadata": {},
     "output_type": "execute_result"
    }
   ],
   "source": [
    "dataset.shape"
   ]
  },
  {
   "cell_type": "code",
   "execution_count": 5,
   "id": "d5609a5b-04af-4d52-8c37-d9080729512a",
   "metadata": {},
   "outputs": [
    {
     "name": "stdout",
     "output_type": "stream",
     "text": [
      "['102' '2' 'user2' 'Funny Skit' 'Comedy' '2300' '200' '400' '70000'\n",
      " '2024-08-02' '45' '']\n"
     ]
    }
   ],
   "source": [
    "# Indexing\n",
    "second_row=dataset[1]\n",
    "print(second_row)"
   ]
  },
  {
   "cell_type": "code",
   "execution_count": 6,
   "id": "e0bd7acf-8f7d-4b33-b36d-c778a3e4d614",
   "metadata": {},
   "outputs": [
    {
     "name": "stdout",
     "output_type": "stream",
     "text": [
      "[['2' 'user2']\n",
      " ['3' 'user3']]\n"
     ]
    }
   ],
   "source": [
    "# Slicing\n",
    "print(dataset[1:3,1:3])"
   ]
  },
  {
   "cell_type": "code",
   "execution_count": 7,
   "id": "28f6eb97-544c-4c44-be07-1f80a63149d6",
   "metadata": {},
   "outputs": [
    {
     "name": "stdout",
     "output_type": "stream",
     "text": [
      "[array([['101', '1', 'user1', 'Dance Challenge'],\n",
      "       ['102', '2', 'user2', 'Funny Skit'],\n",
      "       ['103', '3', 'user3', 'Tutorial'],\n",
      "       ['104', '4', 'user4', 'Viral Dance'],\n",
      "       ['105', '5', 'user5', 'Comedy Sketch']], dtype='<U15'), array([['Dance', '1500', '120', '300'],\n",
      "       ['Comedy', '2300', '200', '400'],\n",
      "       ['Tutorial', '1200', '150', '250'],\n",
      "       ['Dance', '4500', '500', '600'],\n",
      "       ['Comedy', '1800', '180', '210']], dtype='<U15'), array([['50000', '2024-08-01', '30', ''],\n",
      "       ['70000', '2024-08-02', '45', ''],\n",
      "       ['40000', '2024-08-03', '60', ''],\n",
      "       ['90000', '2024-08-04', '30', ''],\n",
      "       ['50000', '2024-08-05', '45', '']], dtype='<U15')]\n"
     ]
    }
   ],
   "source": [
    "# Splitting\n",
    "## hsplit to horizontally split the dataset\n",
    "hor_splits=np.hsplit(dataset,(3))\n",
    "print(hor_splits)\n"
   ]
  },
  {
   "cell_type": "code",
   "execution_count": 8,
   "id": "10149e57-596d-4a65-a4c1-63d78331e1d7",
   "metadata": {},
   "outputs": [
    {
     "name": "stdout",
     "output_type": "stream",
     "text": [
      "[array([['101', '1', 'user1', 'Dance Challenge', 'Dance', '1500', '120',\n",
      "        '300', '50000', '2024-08-01', '30', ''],\n",
      "       ['102', '2', 'user2', 'Funny Skit', 'Comedy', '2300', '200',\n",
      "        '400', '70000', '2024-08-02', '45', ''],\n",
      "       ['103', '3', 'user3', 'Tutorial', 'Tutorial', '1200', '150',\n",
      "        '250', '40000', '2024-08-03', '60', ''],\n",
      "       ['104', '4', 'user4', 'Viral Dance', 'Dance', '4500', '500',\n",
      "        '600', '90000', '2024-08-04', '30', ''],\n",
      "       ['105', '5', 'user5', 'Comedy Sketch', 'Comedy', '1800', '180',\n",
      "        '210', '50000', '2024-08-05', '45', '']], dtype='<U15')]\n"
     ]
    }
   ],
   "source": [
    "## vsplit to vertically split the dataset\n",
    "ver_splits=np.vsplit(dataset,(1))\n",
    "print(ver_splits)"
   ]
  },
  {
   "cell_type": "code",
   "execution_count": 9,
   "id": "07dc280e-c09f-450e-a2f3-6878eda83ad3",
   "metadata": {},
   "outputs": [
    {
     "name": "stdout",
     "output_type": "stream",
     "text": [
      "101\n",
      "1\n",
      "user1\n",
      "Dance Challenge\n",
      "Dance\n",
      "1500\n",
      "120\n",
      "300\n",
      "50000\n",
      "2024-08-01\n",
      "30\n",
      "\n",
      "102\n",
      "2\n",
      "user2\n",
      "Funny Skit\n",
      "Comedy\n",
      "2300\n",
      "200\n",
      "400\n",
      "70000\n",
      "2024-08-02\n",
      "45\n",
      "\n",
      "103\n",
      "3\n",
      "user3\n",
      "Tutorial\n",
      "Tutorial\n",
      "1200\n",
      "150\n",
      "250\n",
      "40000\n",
      "2024-08-03\n",
      "60\n",
      "\n",
      "104\n",
      "4\n",
      "user4\n",
      "Viral Dance\n",
      "Dance\n",
      "4500\n",
      "500\n",
      "600\n",
      "90000\n",
      "2024-08-04\n",
      "30\n",
      "\n",
      "105\n",
      "5\n",
      "user5\n",
      "Comedy Sketch\n",
      "Comedy\n",
      "1800\n",
      "180\n",
      "210\n",
      "50000\n",
      "2024-08-05\n",
      "45\n",
      "\n"
     ]
    }
   ],
   "source": [
    "# Iterating\n",
    "for x in np.nditer(dataset):\n",
    "    print(x)"
   ]
  },
  {
   "cell_type": "code",
   "execution_count": 10,
   "id": "9d8361c1-c0f4-4c47-a690-d2b51579a34c",
   "metadata": {},
   "outputs": [
    {
     "name": "stdout",
     "output_type": "stream",
     "text": [
      "['user1' 'Dance Challenge' 'Dance' '300' '50000' '2024-08-01' '30' 'user2'\n",
      " 'Funny Skit' 'Comedy' '2300' '400' '70000' '2024-08-02' '45' '3' 'user3'\n",
      " 'Tutorial' 'Tutorial' '250' '40000' '2024-08-03' '60' '4' 'user4'\n",
      " 'Viral Dance' 'Dance' '4500' '500' '600' '90000' '2024-08-04' '30' '5'\n",
      " 'user5' 'Comedy Sketch' 'Comedy' '210' '50000' '2024-08-05' '45']\n"
     ]
    }
   ],
   "source": [
    "# Filtering\n",
    "val=dataset[dataset>'200']\n",
    "print(val)"
   ]
  },
  {
   "cell_type": "code",
   "execution_count": 11,
   "id": "4afce7e4-d627-4e57-8ce7-2e416a1ad21b",
   "metadata": {},
   "outputs": [
    {
     "name": "stdout",
     "output_type": "stream",
     "text": [
      "[['101' '1' 'user1' 'Comedy Sketch' 'Comedy' '1200' '120' '210' '40000'\n",
      "  '2024-08-01' '30' '']\n",
      " ['102' '2' 'user2' 'Dance Challenge' 'Comedy' '1500' '150' '250' '50000'\n",
      "  '2024-08-02' '30' '']\n",
      " ['103' '3' 'user3' 'Funny Skit' 'Dance' '1800' '180' '300' '50000'\n",
      "  '2024-08-03' '45' '']\n",
      " ['104' '4' 'user4' 'Tutorial' 'Dance' '2300' '200' '400' '70000'\n",
      "  '2024-08-04' '45' '']\n",
      " ['105' '5' 'user5' 'Viral Dance' 'Tutorial' '4500' '500' '600' '90000'\n",
      "  '2024-08-05' '60' '']]\n"
     ]
    }
   ],
   "source": [
    "# Sorting\n",
    "col=np.sort(dataset,axis=0)\n",
    "print(col)"
   ]
  },
  {
   "cell_type": "code",
   "execution_count": 12,
   "id": "fb816efd-5bd2-4ce3-9581-5d153ed78c5a",
   "metadata": {},
   "outputs": [
    {
     "name": "stdout",
     "output_type": "stream",
     "text": [
      "[array([['101', '1', 'user1', 'Dance Challenge', 'Dance', '1500'],\n",
      "       ['102', '2', 'user2', 'Funny Skit', 'Comedy', '2300'],\n",
      "       ['103', '3', 'user3', 'Tutorial', 'Tutorial', '1200'],\n",
      "       ['104', '4', 'user4', 'Viral Dance', 'Dance', '4500'],\n",
      "       ['105', '5', 'user5', 'Comedy Sketch', 'Comedy', '1800']],\n",
      "      dtype='<U15'), array([['120', '300', '50000', '2024-08-01', '30', ''],\n",
      "       ['200', '400', '70000', '2024-08-02', '45', ''],\n",
      "       ['150', '250', '40000', '2024-08-03', '60', ''],\n",
      "       ['500', '600', '90000', '2024-08-04', '30', ''],\n",
      "       ['180', '210', '50000', '2024-08-05', '45', '']], dtype='<U15')] [array([['101', '1', 'user1', 'Dance Challenge', 'Dance', '1500', '120',\n",
      "        '300', '50000', '2024-08-01', '30', ''],\n",
      "       ['102', '2', 'user2', 'Funny Skit', 'Comedy', '2300', '200',\n",
      "        '400', '70000', '2024-08-02', '45', ''],\n",
      "       ['103', '3', 'user3', 'Tutorial', 'Tutorial', '1200', '150',\n",
      "        '250', '40000', '2024-08-03', '60', ''],\n",
      "       ['104', '4', 'user4', 'Viral Dance', 'Dance', '4500', '500',\n",
      "        '600', '90000', '2024-08-04', '30', ''],\n",
      "       ['105', '5', 'user5', 'Comedy Sketch', 'Comedy', '1800', '180',\n",
      "        '210', '50000', '2024-08-05', '45', '']], dtype='<U15')]\n",
      "[['101' '1' 'user1' 'Dance Challenge' 'Dance' '1500' '120' '300' '50000'\n",
      "  '2024-08-01' '30' '']\n",
      " ['102' '2' 'user2' 'Funny Skit' 'Comedy' '2300' '200' '400' '70000'\n",
      "  '2024-08-02' '45' '']\n",
      " ['103' '3' 'user3' 'Tutorial' 'Tutorial' '1200' '150' '250' '40000'\n",
      "  '2024-08-03' '60' '']\n",
      " ['104' '4' 'user4' 'Viral Dance' 'Dance' '4500' '500' '600' '90000'\n",
      "  '2024-08-04' '30' '']\n",
      " ['105' '5' 'user5' 'Comedy Sketch' 'Comedy' '1800' '180' '210' '50000'\n",
      "  '2024-08-05' '45' '']\n",
      " ['101' '1' 'user1' 'Dance Challenge' 'Dance' '1500' '120' '300' '50000'\n",
      "  '2024-08-01' '30' '']\n",
      " ['102' '2' 'user2' 'Funny Skit' 'Comedy' '2300' '200' '400' '70000'\n",
      "  '2024-08-02' '45' '']\n",
      " ['103' '3' 'user3' 'Tutorial' 'Tutorial' '1200' '150' '250' '40000'\n",
      "  '2024-08-03' '60' '']\n",
      " ['104' '4' 'user4' 'Viral Dance' 'Dance' '4500' '500' '600' '90000'\n",
      "  '2024-08-04' '30' '']\n",
      " ['105' '5' 'user5' 'Comedy Sketch' 'Comedy' '1800' '180' '210' '50000'\n",
      "  '2024-08-05' '45' '']]\n",
      "[['101' '1' 'user1' 'Dance Challenge' 'Dance' '1500' '120' '300' '50000'\n",
      "  '2024-08-01' '30' '']\n",
      " ['102' '2' 'user2' 'Funny Skit' 'Comedy' '2300' '200' '400' '70000'\n",
      "  '2024-08-02' '45' '']\n",
      " ['103' '3' 'user3' 'Tutorial' 'Tutorial' '1200' '150' '250' '40000'\n",
      "  '2024-08-03' '60' '']\n",
      " ['104' '4' 'user4' 'Viral Dance' 'Dance' '4500' '500' '600' '90000'\n",
      "  '2024-08-04' '30' '']\n",
      " ['105' '5' 'user5' 'Comedy Sketch' 'Comedy' '1800' '180' '210' '50000'\n",
      "  '2024-08-05' '45' '']]\n"
     ]
    }
   ],
   "source": [
    "# Combining\n",
    "a=np.hsplit(dataset,(2))\n",
    "b=np.vsplit(dataset,(1))\n",
    "print(a,b)\n",
    "\n",
    "## vstack to vertically combine\n",
    "c=np.vstack([b[0],b[0]])\n",
    "print(c)\n",
    "\n",
    "## hstack to combine horizontally\n",
    "d=np.hstack([a[0],a[1]])\n",
    "print(d)"
   ]
  },
  {
   "cell_type": "code",
   "execution_count": 13,
   "id": "d2473493-baff-43ca-a662-53a55e81a0a6",
   "metadata": {},
   "outputs": [
    {
     "name": "stdout",
     "output_type": "stream",
     "text": [
      "[['101' '1' 'user1' 'Dance Challenge' 'Dance' '1500' '120' '300' '50000'\n",
      "  '2024-08-01' '30' '' '102' '2' 'user2' 'Funny Skit' 'Comedy' '2300'\n",
      "  '200' '400' '70000' '2024-08-02' '45' '' '103' '3' 'user3' 'Tutorial'\n",
      "  'Tutorial' '1200' '150' '250' '40000' '2024-08-03' '60' '' '104' '4'\n",
      "  'user4' 'Viral Dance' 'Dance' '4500' '500' '600' '90000' '2024-08-04'\n",
      "  '30' '' '105' '5' 'user5' 'Comedy Sketch' 'Comedy' '1800' '180' '210'\n",
      "  '50000' '2024-08-05' '45' '']]\n"
     ]
    }
   ],
   "source": [
    "# Reshaping\n",
    "a=np.reshape(dataset,(1,-1))\n",
    "print(a)"
   ]
  },
  {
   "cell_type": "code",
   "execution_count": null,
   "id": "fcf5cc3d-f1fe-4c1d-a437-2beb4577c648",
   "metadata": {},
   "outputs": [],
   "source": []
  },
  {
   "cell_type": "code",
   "execution_count": null,
   "id": "dc0e0bef",
   "metadata": {},
   "outputs": [],
   "source": []
  }
 ],
 "metadata": {
  "kernelspec": {
   "display_name": "Python 3 (ipykernel)",
   "language": "python",
   "name": "python3"
  },
  "language_info": {
   "codemirror_mode": {
    "name": "ipython",
    "version": 3
   },
   "file_extension": ".py",
   "mimetype": "text/x-python",
   "name": "python",
   "nbconvert_exporter": "python",
   "pygments_lexer": "ipython3",
   "version": "3.11.4"
  }
 },
 "nbformat": 4,
 "nbformat_minor": 5
}
