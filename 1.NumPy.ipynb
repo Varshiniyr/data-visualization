{
 "cells": [
  {
   "cell_type": "markdown",
   "id": "f21c5698-553c-4f13-b941-bbbdbd9a3d7f",
   "metadata": {},
   "source": [
    "##  CALCULATE MEAN,MEDIAN,MODE AND STANDARD DEVIATION USING NUMPY"
   ]
  },
  {
   "cell_type": "code",
   "execution_count": 1,
   "id": "12b51378-d353-4f21-9fd1-c670d68e071a",
   "metadata": {},
   "outputs": [],
   "source": [
    "import numpy as np"
   ]
  },
  {
   "cell_type": "code",
   "execution_count": 3,
   "id": "9b587b7f-a6dd-4ad1-9d7a-b0d00e05d664",
   "metadata": {},
   "outputs": [
    {
     "name": "stdout",
     "output_type": "stream",
     "text": [
      "[[1.28348000e-01 1.28906000e-01 1.28348000e-01 1.28348000e-01\n",
      "  1.00323000e-01]\n",
      " [1.22210000e-01 1.22210000e-01 1.21652000e-01 1.21652000e-01\n",
      "  9.50890000e-02]\n",
      " [1.13281000e-01 1.13281000e-01 1.12723000e-01 1.12723000e-01\n",
      "  8.81100000e-02]\n",
      " ...\n",
      " [1.65509995e+02 1.69419998e+02 1.64910004e+02 1.68820007e+02\n",
      "  1.68820007e+02]\n",
      " [1.67990005e+02 1.72639999e+02 1.67649994e+02 1.70210007e+02\n",
      "  1.70210007e+02]\n",
      " [1.71059998e+02 1.74139999e+02 1.70210007e+02 1.74070007e+02\n",
      "  1.74070007e+02]]\n"
     ]
    }
   ],
   "source": [
    "#loading the Apple stock data dataset\n",
    "dataset=np.genfromtxt('C:/Users/varshini y r/OneDrive/Desktop/dva1/AAPL.csv',delimiter=',',skip_header=1,usecols=(1,2,3,4,5))\n",
    "print(dataset)"
   ]
  },
  {
   "cell_type": "code",
   "execution_count": 3,
   "id": "8d064009-1533-4c6d-b56e-e1ddcc1c9f14",
   "metadata": {},
   "outputs": [
    {
     "data": {
      "text/plain": [
       "(10409, 5)"
      ]
     },
     "execution_count": 3,
     "metadata": {},
     "output_type": "execute_result"
    }
   ],
   "source": [
    "dataset.shape"
   ]
  },
  {
   "cell_type": "code",
   "execution_count": 6,
   "id": "3ea03c19-857c-42be-b6d4-00b8d989cd9e",
   "metadata": {},
   "outputs": [
    {
     "data": {
      "text/plain": [
       "13.839620516111058"
      ]
     },
     "execution_count": 6,
     "metadata": {},
     "output_type": "execute_result"
    }
   ],
   "source": [
    "# Mean of the dataset\n",
    "np.mean(dataset)"
   ]
  },
  {
   "cell_type": "code",
   "execution_count": 8,
   "id": "c0c0f44b-e5f1-410f-9e5e-272ec1d713ca",
   "metadata": {},
   "outputs": [
    {
     "data": {
      "text/plain": [
       "array([13.95990986, 14.11193573, 13.80916342, 13.96675694, 13.35033663])"
      ]
     },
     "execution_count": 8,
     "metadata": {},
     "output_type": "execute_result"
    }
   ],
   "source": [
    "# Mean of each column \n",
    "np.mean(dataset,axis=0)"
   ]
  },
  {
   "cell_type": "code",
   "execution_count": 7,
   "id": "334339c2-e7b6-4507-8677-8e8d887cf3e7",
   "metadata": {},
   "outputs": [
    {
     "data": {
      "text/plain": [
       "0.453125"
      ]
     },
     "execution_count": 7,
     "metadata": {},
     "output_type": "execute_result"
    }
   ],
   "source": [
    "# Median of the dataset\n",
    "np.median(dataset)"
   ]
  },
  {
   "cell_type": "code",
   "execution_count": 12,
   "id": "7e4ad682-99f6-43fa-b6dc-d2c35bd54b3d",
   "metadata": {},
   "outputs": [
    {
     "data": {
      "text/plain": [
       "ModeResult(mode=array([0.354911, 0.372768, 0.357143, 0.399554, 0.086365]), count=array([38., 35., 51., 40., 20.]))"
      ]
     },
     "execution_count": 12,
     "metadata": {},
     "output_type": "execute_result"
    }
   ],
   "source": [
    "# Mode of the dataset\n",
    "from scipy import stats\n",
    "stats.mode(dataset)"
   ]
  },
  {
   "cell_type": "code",
   "execution_count": 9,
   "id": "54d0d8de-90a5-4f8e-9260-8a1ebc5e65d3",
   "metadata": {},
   "outputs": [
    {
     "data": {
      "text/plain": [
       "30.125056229864633"
      ]
     },
     "execution_count": 9,
     "metadata": {},
     "output_type": "execute_result"
    }
   ],
   "source": [
    "# Standard deviation of the dataset\n",
    "np.std(dataset)"
   ]
  },
  {
   "cell_type": "code",
   "execution_count": null,
   "id": "bfd7dcbd-8d1e-437e-88ad-6259956864ac",
   "metadata": {},
   "outputs": [],
   "source": []
  }
 ],
 "metadata": {
  "kernelspec": {
   "display_name": "Python 3 (ipykernel)",
   "language": "python",
   "name": "python3"
  },
  "language_info": {
   "codemirror_mode": {
    "name": "ipython",
    "version": 3
   },
   "file_extension": ".py",
   "mimetype": "text/x-python",
   "name": "python",
   "nbconvert_exporter": "python",
   "pygments_lexer": "ipython3",
   "version": "3.11.4"
  }
 },
 "nbformat": 4,
 "nbformat_minor": 5
}
