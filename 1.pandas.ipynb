{
 "cells": [
  {
   "cell_type": "markdown",
   "id": "49dbd332-ca0a-44cf-8851-e40c9821af1f",
   "metadata": {},
   "source": [
    "## Calculate Mean,Median,Mode and Standard deviation using pandas"
   ]
  },
  {
   "cell_type": "code",
   "execution_count": 3,
   "id": "b4fa643e-1195-450e-b875-da4d45305974",
   "metadata": {},
   "outputs": [],
   "source": [
    "import pandas as pd"
   ]
  },
  {
   "cell_type": "code",
   "execution_count": 9,
   "id": "c2dc920a-9b2d-40ab-a135-89380bc9fe4f",
   "metadata": {},
   "outputs": [],
   "source": [
    "# Loading the apple stock data dataset\n",
    "dataset=pd.read_csv('C:/Users/varshini y r/OneDrive/Desktop/dva1/AAPL.csv',index_col=0)"
   ]
  },
  {
   "cell_type": "code",
   "execution_count": 10,
   "id": "db28e6c3-f892-4b00-9e5f-ee33680742f9",
   "metadata": {},
   "outputs": [
    {
     "data": {
      "text/html": [
       "<div>\n",
       "<style scoped>\n",
       "    .dataframe tbody tr th:only-of-type {\n",
       "        vertical-align: middle;\n",
       "    }\n",
       "\n",
       "    .dataframe tbody tr th {\n",
       "        vertical-align: top;\n",
       "    }\n",
       "\n",
       "    .dataframe thead th {\n",
       "        text-align: right;\n",
       "    }\n",
       "</style>\n",
       "<table border=\"1\" class=\"dataframe\">\n",
       "  <thead>\n",
       "    <tr style=\"text-align: right;\">\n",
       "      <th></th>\n",
       "      <th>Open</th>\n",
       "      <th>High</th>\n",
       "      <th>Low</th>\n",
       "      <th>Close</th>\n",
       "      <th>Adj Close</th>\n",
       "      <th>Volume</th>\n",
       "    </tr>\n",
       "    <tr>\n",
       "      <th>Date</th>\n",
       "      <th></th>\n",
       "      <th></th>\n",
       "      <th></th>\n",
       "      <th></th>\n",
       "      <th></th>\n",
       "      <th></th>\n",
       "    </tr>\n",
       "  </thead>\n",
       "  <tbody>\n",
       "    <tr>\n",
       "      <th>1980-12-12</th>\n",
       "      <td>0.128348</td>\n",
       "      <td>0.128906</td>\n",
       "      <td>0.128348</td>\n",
       "      <td>0.128348</td>\n",
       "      <td>0.100323</td>\n",
       "      <td>469033600</td>\n",
       "    </tr>\n",
       "    <tr>\n",
       "      <th>1980-12-15</th>\n",
       "      <td>0.122210</td>\n",
       "      <td>0.122210</td>\n",
       "      <td>0.121652</td>\n",
       "      <td>0.121652</td>\n",
       "      <td>0.095089</td>\n",
       "      <td>175884800</td>\n",
       "    </tr>\n",
       "    <tr>\n",
       "      <th>1980-12-16</th>\n",
       "      <td>0.113281</td>\n",
       "      <td>0.113281</td>\n",
       "      <td>0.112723</td>\n",
       "      <td>0.112723</td>\n",
       "      <td>0.088110</td>\n",
       "      <td>105728000</td>\n",
       "    </tr>\n",
       "    <tr>\n",
       "      <th>1980-12-17</th>\n",
       "      <td>0.115513</td>\n",
       "      <td>0.116071</td>\n",
       "      <td>0.115513</td>\n",
       "      <td>0.115513</td>\n",
       "      <td>0.090291</td>\n",
       "      <td>86441600</td>\n",
       "    </tr>\n",
       "    <tr>\n",
       "      <th>1980-12-18</th>\n",
       "      <td>0.118862</td>\n",
       "      <td>0.119420</td>\n",
       "      <td>0.118862</td>\n",
       "      <td>0.118862</td>\n",
       "      <td>0.092908</td>\n",
       "      <td>73449600</td>\n",
       "    </tr>\n",
       "  </tbody>\n",
       "</table>\n",
       "</div>"
      ],
      "text/plain": [
       "                Open      High       Low     Close  Adj Close     Volume\n",
       "Date                                                                    \n",
       "1980-12-12  0.128348  0.128906  0.128348  0.128348   0.100323  469033600\n",
       "1980-12-15  0.122210  0.122210  0.121652  0.121652   0.095089  175884800\n",
       "1980-12-16  0.113281  0.113281  0.112723  0.112723   0.088110  105728000\n",
       "1980-12-17  0.115513  0.116071  0.115513  0.115513   0.090291   86441600\n",
       "1980-12-18  0.118862  0.119420  0.118862  0.118862   0.092908   73449600"
      ]
     },
     "execution_count": 10,
     "metadata": {},
     "output_type": "execute_result"
    }
   ],
   "source": [
    "dataset.head()"
   ]
  },
  {
   "cell_type": "code",
   "execution_count": 11,
   "id": "e3c885bc-1e90-4a56-b4a9-46db88194f1b",
   "metadata": {},
   "outputs": [
    {
     "data": {
      "text/plain": [
       "(10409, 6)"
      ]
     },
     "execution_count": 11,
     "metadata": {},
     "output_type": "execute_result"
    }
   ],
   "source": [
    "dataset.shape"
   ]
  },
  {
   "cell_type": "code",
   "execution_count": 12,
   "id": "086e2552-d3f3-4c5f-b23e-a21bf41bfdd6",
   "metadata": {},
   "outputs": [
    {
     "data": {
      "text/plain": [
       "Open         1.395991e+01\n",
       "High         1.411194e+01\n",
       "Low          1.380916e+01\n",
       "Close        1.396676e+01\n",
       "Adj Close    1.335034e+01\n",
       "Volume       3.321778e+08\n",
       "dtype: float64"
      ]
     },
     "execution_count": 12,
     "metadata": {},
     "output_type": "execute_result"
    }
   ],
   "source": [
    "# Mean of the dataset\n",
    "dataset.mean()"
   ]
  },
  {
   "cell_type": "code",
   "execution_count": 13,
   "id": "72c28e93-f16e-4a21-8b99-dc049906ff0b",
   "metadata": {},
   "outputs": [
    {
     "data": {
      "text/plain": [
       "Open         4.687500e-01\n",
       "High         4.776790e-01\n",
       "Low          4.598210e-01\n",
       "Close        4.687500e-01\n",
       "Adj Close    3.868530e-01\n",
       "Volume       2.199680e+08\n",
       "dtype: float64"
      ]
     },
     "execution_count": 13,
     "metadata": {},
     "output_type": "execute_result"
    }
   ],
   "source": [
    "# Median of the dataset \n",
    "dataset.median()"
   ]
  },
  {
   "cell_type": "code",
   "execution_count": 14,
   "id": "ac6f27c2-be53-43d9-b656-36c5555259e8",
   "metadata": {},
   "outputs": [
    {
     "data": {
      "text/html": [
       "<div>\n",
       "<style scoped>\n",
       "    .dataframe tbody tr th:only-of-type {\n",
       "        vertical-align: middle;\n",
       "    }\n",
       "\n",
       "    .dataframe tbody tr th {\n",
       "        vertical-align: top;\n",
       "    }\n",
       "\n",
       "    .dataframe thead th {\n",
       "        text-align: right;\n",
       "    }\n",
       "</style>\n",
       "<table border=\"1\" class=\"dataframe\">\n",
       "  <thead>\n",
       "    <tr style=\"text-align: right;\">\n",
       "      <th></th>\n",
       "      <th>Open</th>\n",
       "      <th>High</th>\n",
       "      <th>Low</th>\n",
       "      <th>Close</th>\n",
       "      <th>Adj Close</th>\n",
       "      <th>Volume</th>\n",
       "    </tr>\n",
       "  </thead>\n",
       "  <tbody>\n",
       "    <tr>\n",
       "      <th>0</th>\n",
       "      <td>0.354911</td>\n",
       "      <td>0.372768</td>\n",
       "      <td>0.357143</td>\n",
       "      <td>0.399554</td>\n",
       "      <td>0.086365</td>\n",
       "      <td>246400000</td>\n",
       "    </tr>\n",
       "  </tbody>\n",
       "</table>\n",
       "</div>"
      ],
      "text/plain": [
       "       Open      High       Low     Close  Adj Close     Volume\n",
       "0  0.354911  0.372768  0.357143  0.399554   0.086365  246400000"
      ]
     },
     "execution_count": 14,
     "metadata": {},
     "output_type": "execute_result"
    }
   ],
   "source": [
    "# Mode of the dataset\n",
    "dataset.mode()"
   ]
  },
  {
   "cell_type": "code",
   "execution_count": 15,
   "id": "d835083d-103b-4f29-9190-2b14b5070547",
   "metadata": {},
   "outputs": [
    {
     "data": {
      "text/plain": [
       "Open         3.016924e+01\n",
       "High         3.051488e+01\n",
       "Low          2.983506e+01\n",
       "Close        3.019170e+01\n",
       "Adj Close    2.991113e+01\n",
       "Volume       3.393344e+08\n",
       "dtype: float64"
      ]
     },
     "execution_count": 15,
     "metadata": {},
     "output_type": "execute_result"
    }
   ],
   "source": [
    "# Standard deviation of the dataset\n",
    "dataset.std()"
   ]
  },
  {
   "cell_type": "code",
   "execution_count": null,
   "id": "3c0af042-9e5d-4909-9a36-57f9336f85fe",
   "metadata": {},
   "outputs": [],
   "source": []
  },
  {
   "cell_type": "code",
   "execution_count": null,
   "id": "bc34d070",
   "metadata": {},
   "outputs": [],
   "source": []
  }
 ],
 "metadata": {
  "kernelspec": {
   "display_name": "Python 3 (ipykernel)",
   "language": "python",
   "name": "python3"
  },
  "language_info": {
   "codemirror_mode": {
    "name": "ipython",
    "version": 3
   },
   "file_extension": ".py",
   "mimetype": "text/x-python",
   "name": "python",
   "nbconvert_exporter": "python",
   "pygments_lexer": "ipython3",
   "version": "3.11.4"
  }
 },
 "nbformat": 4,
 "nbformat_minor": 5
}
